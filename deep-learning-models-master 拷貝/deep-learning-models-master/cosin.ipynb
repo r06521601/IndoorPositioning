{
 "cells": [
  {
   "cell_type": "code",
   "execution_count": 9,
   "metadata": {},
   "outputs": [],
   "source": [
    "from vgg19 import VGG19\n",
    "from keras.preprocessing import image\n",
    "from imagenet_utils import preprocess_input\n",
    "from keras.models import Model, load_model\n",
    "from keras.models import Model\n",
    "\n",
    "import matplotlib.pyplot as plt\n",
    "import matplotlib.axis as ax\n",
    "import cv2"
   ]
  },
  {
   "cell_type": "code",
   "execution_count": 10,
   "metadata": {},
   "outputs": [],
   "source": [
    "import numpy as np"
   ]
  },
  {
   "cell_type": "code",
   "execution_count": 11,
   "metadata": {},
   "outputs": [],
   "source": [
    "base_model = load_model('vgg19.h5')"
   ]
  },
  {
   "cell_type": "code",
   "execution_count": 12,
   "metadata": {},
   "outputs": [
    {
     "name": "stderr",
     "output_type": "stream",
     "text": [
      "/Library/Frameworks/Python.framework/Versions/3.6/lib/python3.6/site-packages/ipykernel_launcher.py:1: UserWarning: Update your `Model` call to the Keras 2 API: `Model(inputs=Tensor(\"in..., outputs=Tensor(\"bl...)`\n",
      "  \"\"\"Entry point for launching an IPython kernel.\n"
     ]
    }
   ],
   "source": [
    "model = Model(input=base_model.input, output=base_model.get_layer('block4_pool').output)"
   ]
  },
  {
   "cell_type": "code",
   "execution_count": 120,
   "metadata": {},
   "outputs": [],
   "source": [
    "def repool(path, grayornot=False, normalornot=False, num=1):\n",
    "    img = image.load_img(path, grayscale=grayornot)\n",
    "    \n",
    "    d_img = np.array(img)\n",
    "    step_i,step_j = d_img.shape[:2]\n",
    "    step_i /= num\n",
    "    step_j /= num\n",
    "    #fmap = np.zeros((1, 100352*num))\n",
    "    fmap = np.zeros((1, 5000))\n",
    "    for i in range(num):\n",
    "        for j in range(num):\n",
    "            g = d_img[int(0+i*step_i):int(step_i+i*step_i), int(0+j*step_j):int(step_j+j*step_j)]\n",
    "            g = cv2.resize(g, (224,224))\n",
    "\n",
    "            #x = image.img_to_array(img)\n",
    "            #x = np.expand_dims(x, axis=0)\n",
    "            if grayornot == True:\n",
    "                img2 = np.zeros_like(g)\n",
    "                img2 = np.stack([g]*3, axis=2)\n",
    "                img2[:,:,0] = g[:,:]\n",
    "                img2[:,:,1] = g[:,:]\n",
    "                img2[:,:,2] = g[:,:]\n",
    "                g = img2\n",
    "            #x = preprocess_input(x)\n",
    "            if normalornot == True:\n",
    "                g = [[g/.255]]\n",
    "            else:\n",
    "                g = [[g]]\n",
    "            block4_pool_features = model.predict(g).flatten()\n",
    "            #fmap += block4_pool_features[:]\n",
    "            fmap[0][i*5000:(i+1)*5000] = block4_pool_features[-5000:]\n",
    "\n",
    "    return fmap"
   ]
  },
  {
   "cell_type": "code",
   "execution_count": 121,
   "metadata": {},
   "outputs": [],
   "source": [
    "\n",
    "real_pool = repool('../../../Testing data/6F-SR/14.JPG', grayornot=False, normalornot=False, num=1).flatten()\n",
    "bim_pool = repool('../../../Testing data/6F-SR/15.JPG', grayornot=False, normalornot=False, num=1).flatten()\n",
    "bim_poolf = repool('../../../Testing data/1F/IMG_5504.JPG', grayornot=False, normalornot=False, num=1).flatten()"
   ]
  },
  {
   "cell_type": "code",
   "execution_count": 122,
   "metadata": {},
   "outputs": [],
   "source": [
    "score = np.dot(real_pool, bim_pool)/(np.linalg.norm(real_pool)*np.linalg.norm(bim_pool))"
   ]
  },
  {
   "cell_type": "code",
   "execution_count": 123,
   "metadata": {},
   "outputs": [
    {
     "data": {
      "text/plain": [
       "0.35268088802355824"
      ]
     },
     "execution_count": 123,
     "metadata": {},
     "output_type": "execute_result"
    }
   ],
   "source": [
    "score"
   ]
  },
  {
   "cell_type": "code",
   "execution_count": 124,
   "metadata": {},
   "outputs": [],
   "source": [
    "score = np.dot(real_pool, bim_poolf)/(np.linalg.norm(real_pool)*np.linalg.norm(bim_poolf))"
   ]
  },
  {
   "cell_type": "code",
   "execution_count": 125,
   "metadata": {},
   "outputs": [
    {
     "data": {
      "text/plain": [
       "0.2297897732218752"
      ]
     },
     "execution_count": 125,
     "metadata": {},
     "output_type": "execute_result"
    }
   ],
   "source": [
    "score"
   ]
  },
  {
   "cell_type": "code",
   "execution_count": null,
   "metadata": {},
   "outputs": [],
   "source": []
  },
  {
   "cell_type": "code",
   "execution_count": null,
   "metadata": {},
   "outputs": [],
   "source": []
  }
 ],
 "metadata": {
  "kernelspec": {
   "display_name": "Python 3",
   "language": "python",
   "name": "python3"
  },
  "language_info": {
   "codemirror_mode": {
    "name": "ipython",
    "version": 3
   },
   "file_extension": ".py",
   "mimetype": "text/x-python",
   "name": "python",
   "nbconvert_exporter": "python",
   "pygments_lexer": "ipython3",
   "version": "3.6.7"
  }
 },
 "nbformat": 4,
 "nbformat_minor": 2
}
