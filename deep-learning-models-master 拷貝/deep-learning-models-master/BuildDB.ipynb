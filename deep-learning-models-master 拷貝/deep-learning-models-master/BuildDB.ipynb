{
 "cells": [
  {
   "cell_type": "code",
   "execution_count": 33,
   "metadata": {},
   "outputs": [],
   "source": [
    "from vgg19 import VGG19\n",
    "from keras.preprocessing import image\n",
    "from imagenet_utils import preprocess_input\n",
    "from keras.models import Model, load_model\n",
    "import numpy as np\n",
    "import cv2"
   ]
  },
  {
   "cell_type": "code",
   "execution_count": 34,
   "metadata": {},
   "outputs": [
    {
     "name": "stderr",
     "output_type": "stream",
     "text": [
      "/Library/Frameworks/Python.framework/Versions/3.6/lib/python3.6/site-packages/keras/engine/saving.py:292: UserWarning: No training configuration found in save file: the model was *not* compiled. Compile it manually.\n",
      "  warnings.warn('No training configuration found in save file: '\n"
     ]
    }
   ],
   "source": [
    "base_model = load_model('vgg19.h5')"
   ]
  },
  {
   "cell_type": "code",
   "execution_count": 35,
   "metadata": {},
   "outputs": [
    {
     "name": "stderr",
     "output_type": "stream",
     "text": [
      "/Library/Frameworks/Python.framework/Versions/3.6/lib/python3.6/site-packages/ipykernel_launcher.py:1: UserWarning: Update your `Model` call to the Keras 2 API: `Model(inputs=Tensor(\"in..., outputs=Tensor(\"bl...)`\n",
      "  \"\"\"Entry point for launching an IPython kernel.\n"
     ]
    }
   ],
   "source": [
    "model = Model(input=base_model.input, output=base_model.get_layer('block4_pool').output)"
   ]
  },
  {
   "cell_type": "code",
   "execution_count": 36,
   "metadata": {},
   "outputs": [
    {
     "name": "stdout",
     "output_type": "stream",
     "text": [
      "_________________________________________________________________\n",
      "Layer (type)                 Output Shape              Param #   \n",
      "=================================================================\n",
      "input_1 (InputLayer)         (None, 224, 224, 3)       0         \n",
      "_________________________________________________________________\n",
      "block1_conv1 (Conv2D)        (None, 224, 224, 64)      1792      \n",
      "_________________________________________________________________\n",
      "block1_conv2 (Conv2D)        (None, 224, 224, 64)      36928     \n",
      "_________________________________________________________________\n",
      "block1_pool (MaxPooling2D)   (None, 112, 112, 64)      0         \n",
      "_________________________________________________________________\n",
      "block2_conv1 (Conv2D)        (None, 112, 112, 128)     73856     \n",
      "_________________________________________________________________\n",
      "block2_conv2 (Conv2D)        (None, 112, 112, 128)     147584    \n",
      "_________________________________________________________________\n",
      "block2_pool (MaxPooling2D)   (None, 56, 56, 128)       0         \n",
      "_________________________________________________________________\n",
      "block3_conv1 (Conv2D)        (None, 56, 56, 256)       295168    \n",
      "_________________________________________________________________\n",
      "block3_conv2 (Conv2D)        (None, 56, 56, 256)       590080    \n",
      "_________________________________________________________________\n",
      "block3_conv3 (Conv2D)        (None, 56, 56, 256)       590080    \n",
      "_________________________________________________________________\n",
      "block3_conv4 (Conv2D)        (None, 56, 56, 256)       590080    \n",
      "_________________________________________________________________\n",
      "block3_pool (MaxPooling2D)   (None, 28, 28, 256)       0         \n",
      "_________________________________________________________________\n",
      "block4_conv1 (Conv2D)        (None, 28, 28, 512)       1180160   \n",
      "_________________________________________________________________\n",
      "block4_conv2 (Conv2D)        (None, 28, 28, 512)       2359808   \n",
      "_________________________________________________________________\n",
      "block4_conv3 (Conv2D)        (None, 28, 28, 512)       2359808   \n",
      "_________________________________________________________________\n",
      "block4_conv4 (Conv2D)        (None, 28, 28, 512)       2359808   \n",
      "_________________________________________________________________\n",
      "block4_pool (MaxPooling2D)   (None, 14, 14, 512)       0         \n",
      "=================================================================\n",
      "Total params: 10,585,152\n",
      "Trainable params: 10,585,152\n",
      "Non-trainable params: 0\n",
      "_________________________________________________________________\n"
     ]
    }
   ],
   "source": [
    "model.summary()"
   ]
  },
  {
   "cell_type": "code",
   "execution_count": 45,
   "metadata": {},
   "outputs": [],
   "source": [
    "def repool(path, grayornot=False, normalornot=False, num=1):\n",
    "    img = image.load_img(path, grayscale=grayornot)\n",
    "    \n",
    "    d_img = np.array(img)\n",
    "    step_i,step_j = d_img.shape[:2]\n",
    "    step_i /= num\n",
    "    step_j /= num\n",
    "    fmap = np.zeros((1, 100352))\n",
    "    for i in range(num):\n",
    "        for j in range(num):\n",
    "            g = d_img[int(0+i*step_i):int(step_i+i*step_i), int(0+j*step_j):int(step_j+j*step_j)]\n",
    "            g = cv2.resize(g, (224,224))\n",
    "\n",
    "            #x = image.img_to_array(img)\n",
    "            #x = np.expand_dims(x, axis=0)\n",
    "            if grayornot == True:\n",
    "                img2 = np.zeros_like(g)\n",
    "                img2 = np.stack([g]*3, axis=2)\n",
    "                img2[:,:,0] = g[:,:]\n",
    "                img2[:,:,1] = g[:,:]\n",
    "                img2[:,:,2] = g[:,:]\n",
    "                g = img2\n",
    "            #x = preprocess_input(x)\n",
    "            if normalornot == True:\n",
    "                g = [[g/.255]]\n",
    "            else:\n",
    "                g = [[g]]\n",
    "            block4_pool_features = model.predict(g).flatten()\n",
    "            fmap += block4_pool_features\n",
    "\n",
    "    return fmap"
   ]
  },
  {
   "cell_type": "code",
   "execution_count": 42,
   "metadata": {},
   "outputs": [],
   "source": [
    "fea_n = []\n",
    "for file in folder:\n",
    "    fea = repool('../../../PosData/'+file, grayornot=False, normalornot=False, num=1).flatten()\n",
    "    fea_n.append([file, fea])\n",
    "\n",
    "fea_n = np.array(fea_n, dtype=object)\n",
    "np.save('data_color_1x1',np.asarray(fea_n))"
   ]
  },
  {
   "cell_type": "code",
   "execution_count": 46,
   "metadata": {},
   "outputs": [],
   "source": [
    "from os import listdir\n",
    "\n",
    "folder = listdir('../../../Database/')\n",
    "result = []\n",
    "\n",
    "for subf in folder: \n",
    "    try:\n",
    "        subfolder = listdir('../../../Database/'+subf)\n",
    "        for tgimg in subfolder:\n",
    "            try:\n",
    "                fea = repool('../../../Database/'+subf+'/'+tgimg, grayornot=False, normalornot=False, num=1).flatten()\n",
    "                \n",
    "                result.append([subf+\":\"+tgimg,fea])\n",
    "            except:\n",
    "                a=0\n",
    "    except:\n",
    "        a=0\n",
    "\n",
    "fea_n = np.array(result, dtype=object)\n",
    "np.save('data_real_color',np.asarray(fea_n))"
   ]
  },
  {
   "cell_type": "code",
   "execution_count": 49,
   "metadata": {},
   "outputs": [
    {
     "data": {
      "text/plain": [
       "array(['G-M:IMG_5508.JPG',\n",
       "       array([0.        , 0.        , 4.04795122, ..., 0.        , 0.        ,\n",
       "       0.        ])], dtype=object)"
      ]
     },
     "execution_count": 49,
     "metadata": {},
     "output_type": "execute_result"
    }
   ],
   "source": [
    "np.load('data_real_color.npy')[0]"
   ]
  },
  {
   "cell_type": "code",
   "execution_count": null,
   "metadata": {},
   "outputs": [],
   "source": []
  }
 ],
 "metadata": {
  "kernelspec": {
   "display_name": "Python 3",
   "language": "python",
   "name": "python3"
  },
  "language_info": {
   "codemirror_mode": {
    "name": "ipython",
    "version": 3
   },
   "file_extension": ".py",
   "mimetype": "text/x-python",
   "name": "python",
   "nbconvert_exporter": "python",
   "pygments_lexer": "ipython3",
   "version": "3.6.7"
  }
 },
 "nbformat": 4,
 "nbformat_minor": 2
}
