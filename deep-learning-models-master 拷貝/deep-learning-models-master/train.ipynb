{
 "cells": [
  {
   "cell_type": "code",
   "execution_count": 1,
   "metadata": {},
   "outputs": [
    {
     "name": "stderr",
     "output_type": "stream",
     "text": [
      "Using TensorFlow backend.\n"
     ]
    }
   ],
   "source": [
    "from keras.models import Sequential\n",
    "from keras.layers import Dense, Dropout\n",
    "import numpy as np\n",
    "\n",
    "from keras.utils import to_categorical\n",
    "from sklearn.preprocessing import LabelBinarizer\n",
    "from sklearn.decomposition import PCA"
   ]
  },
  {
   "cell_type": "code",
   "execution_count": 18,
   "metadata": {},
   "outputs": [],
   "source": [
    "data = np.load('data_color_1x1.npy')\n"
   ]
  },
  {
   "cell_type": "code",
   "execution_count": 19,
   "metadata": {},
   "outputs": [],
   "source": [
    "y = np.delete(data, 1, 1)"
   ]
  },
  {
   "cell_type": "code",
   "execution_count": 20,
   "metadata": {},
   "outputs": [],
   "source": [
    "x = np.delete(data, 0, 1)"
   ]
  },
  {
   "cell_type": "code",
   "execution_count": 21,
   "metadata": {},
   "outputs": [],
   "source": [
    "x_train = []\n",
    "for i in x:\n",
    "    x_train.append(i[0])\n",
    "y_train = []\n",
    "for i in y:\n",
    "    y_train.append((i[0].split('_')[0]))"
   ]
  },
  {
   "cell_type": "code",
   "execution_count": 22,
   "metadata": {},
   "outputs": [],
   "source": [
    "x_train = np.array(x_train)\n",
    "#x_train = x_train/np.linalg.norm(x_train)\n",
    "y_train = np.array(y_train)"
   ]
  },
  {
   "cell_type": "code",
   "execution_count": 23,
   "metadata": {},
   "outputs": [],
   "source": [
    "encoder = LabelBinarizer()\n",
    "transfomed_label = encoder.fit_transform(y_train)"
   ]
  },
  {
   "cell_type": "code",
   "execution_count": 24,
   "metadata": {},
   "outputs": [],
   "source": [
    "y_train = transfomed_label"
   ]
  },
  {
   "cell_type": "code",
   "execution_count": 25,
   "metadata": {},
   "outputs": [],
   "source": [
    "pca = PCA(.99)\n",
    "pca.fit(x_train)\n",
    "principalComponents = pca.fit_transform(x_train)"
   ]
  },
  {
   "cell_type": "code",
   "execution_count": 64,
   "metadata": {},
   "outputs": [],
   "source": [
    "model = Sequential()\n",
    "model.add(Dense(1024, input_dim=principalComponents.shape[1], activation='relu'))\n",
    "model.add(Dense(512, activation='relu'))\n",
    "model.add(Dense(256, activation='relu'))\n",
    "model.add(Dense(128, activation='relu'))\n",
    "model.add(Dense(8, activation='sigmoid'))"
   ]
  },
  {
   "cell_type": "code",
   "execution_count": 65,
   "metadata": {},
   "outputs": [],
   "source": [
    "# Compile model\n",
    "from keras.optimizers import Adam\n",
    "model.compile(loss='binary_crossentropy', optimizer=Adam(lr=0.001), metrics=['accuracy'])"
   ]
  },
  {
   "cell_type": "code",
   "execution_count": 70,
   "metadata": {},
   "outputs": [
    {
     "name": "stdout",
     "output_type": "stream",
     "text": [
      "Train on 34 samples, validate on 4 samples\n",
      "Epoch 1/30\n",
      "34/34 [==============================] - 0s 5ms/step - loss: 6.2251 - acc: 0.6103 - val_loss: 6.9913 - val_acc: 0.5625\n",
      "Epoch 2/30\n",
      "34/34 [==============================] - 0s 3ms/step - loss: 6.2251 - acc: 0.6103 - val_loss: 6.9913 - val_acc: 0.5625\n",
      "Epoch 3/30\n",
      "34/34 [==============================] - 0s 4ms/step - loss: 6.2251 - acc: 0.6103 - val_loss: 6.9913 - val_acc: 0.5625\n",
      "Epoch 4/30\n",
      "34/34 [==============================] - 0s 3ms/step - loss: 6.2251 - acc: 0.6103 - val_loss: 6.9913 - val_acc: 0.5625\n",
      "Epoch 5/30\n",
      "34/34 [==============================] - 0s 3ms/step - loss: 6.2251 - acc: 0.6103 - val_loss: 6.9913 - val_acc: 0.5625\n",
      "Epoch 6/30\n",
      "34/34 [==============================] - 0s 3ms/step - loss: 6.2251 - acc: 0.6103 - val_loss: 6.9913 - val_acc: 0.5625\n",
      "Epoch 7/30\n",
      "34/34 [==============================] - 0s 3ms/step - loss: 6.2251 - acc: 0.6103 - val_loss: 6.9913 - val_acc: 0.5625\n",
      "Epoch 8/30\n",
      "34/34 [==============================] - 0s 3ms/step - loss: 6.2251 - acc: 0.6103 - val_loss: 6.9913 - val_acc: 0.5625\n",
      "Epoch 9/30\n",
      "34/34 [==============================] - 0s 3ms/step - loss: 6.2251 - acc: 0.6103 - val_loss: 6.9913 - val_acc: 0.5625\n",
      "Epoch 10/30\n",
      "34/34 [==============================] - 0s 3ms/step - loss: 6.2251 - acc: 0.6103 - val_loss: 6.9913 - val_acc: 0.5625\n",
      "Epoch 11/30\n",
      "34/34 [==============================] - 0s 3ms/step - loss: 6.2251 - acc: 0.6103 - val_loss: 6.9913 - val_acc: 0.5625\n",
      "Epoch 12/30\n",
      "34/34 [==============================] - 0s 3ms/step - loss: 6.2251 - acc: 0.6103 - val_loss: 6.9913 - val_acc: 0.5625\n",
      "Epoch 13/30\n",
      "34/34 [==============================] - 0s 3ms/step - loss: 6.2251 - acc: 0.6103 - val_loss: 6.9913 - val_acc: 0.5625\n",
      "Epoch 14/30\n",
      "34/34 [==============================] - 0s 3ms/step - loss: 6.2251 - acc: 0.6103 - val_loss: 6.9913 - val_acc: 0.5625\n",
      "Epoch 15/30\n",
      "34/34 [==============================] - 0s 3ms/step - loss: 6.2251 - acc: 0.6103 - val_loss: 6.9913 - val_acc: 0.5625\n",
      "Epoch 16/30\n",
      "34/34 [==============================] - 0s 4ms/step - loss: 6.2251 - acc: 0.6103 - val_loss: 6.9913 - val_acc: 0.5625\n",
      "Epoch 17/30\n",
      "34/34 [==============================] - 0s 3ms/step - loss: 6.2251 - acc: 0.6103 - val_loss: 6.9913 - val_acc: 0.5625\n",
      "Epoch 18/30\n",
      "34/34 [==============================] - 0s 3ms/step - loss: 6.2251 - acc: 0.6103 - val_loss: 6.9913 - val_acc: 0.5625\n",
      "Epoch 19/30\n",
      "34/34 [==============================] - 0s 3ms/step - loss: 6.2251 - acc: 0.6103 - val_loss: 6.9913 - val_acc: 0.5625\n",
      "Epoch 20/30\n",
      "34/34 [==============================] - 0s 3ms/step - loss: 6.2251 - acc: 0.6103 - val_loss: 6.9913 - val_acc: 0.5625\n",
      "Epoch 21/30\n",
      "34/34 [==============================] - 0s 3ms/step - loss: 6.2251 - acc: 0.6103 - val_loss: 6.9913 - val_acc: 0.5625\n",
      "Epoch 22/30\n",
      "34/34 [==============================] - 0s 3ms/step - loss: 6.2251 - acc: 0.6103 - val_loss: 6.9913 - val_acc: 0.5625\n",
      "Epoch 23/30\n",
      "34/34 [==============================] - 0s 3ms/step - loss: 6.2251 - acc: 0.6103 - val_loss: 6.9913 - val_acc: 0.5625\n",
      "Epoch 24/30\n",
      "34/34 [==============================] - 0s 3ms/step - loss: 6.2251 - acc: 0.6103 - val_loss: 6.9913 - val_acc: 0.5625\n",
      "Epoch 25/30\n",
      "34/34 [==============================] - 0s 3ms/step - loss: 6.2251 - acc: 0.6103 - val_loss: 6.9913 - val_acc: 0.5625\n",
      "Epoch 26/30\n",
      "34/34 [==============================] - 0s 3ms/step - loss: 6.2251 - acc: 0.6103 - val_loss: 6.9913 - val_acc: 0.5625\n",
      "Epoch 27/30\n",
      "34/34 [==============================] - 0s 3ms/step - loss: 6.2251 - acc: 0.6103 - val_loss: 6.9913 - val_acc: 0.5625\n",
      "Epoch 28/30\n",
      "34/34 [==============================] - 0s 3ms/step - loss: 6.2251 - acc: 0.6103 - val_loss: 6.9913 - val_acc: 0.5625\n",
      "Epoch 29/30\n",
      "34/34 [==============================] - 0s 3ms/step - loss: 6.2251 - acc: 0.6103 - val_loss: 6.9913 - val_acc: 0.5625\n",
      "Epoch 30/30\n",
      "34/34 [==============================] - 0s 3ms/step - loss: 6.2251 - acc: 0.6103 - val_loss: 6.9913 - val_acc: 0.5625\n"
     ]
    },
    {
     "data": {
      "text/plain": [
       "<keras.callbacks.History at 0x12cc74cf8>"
      ]
     },
     "execution_count": 70,
     "metadata": {},
     "output_type": "execute_result"
    }
   ],
   "source": [
    "# Fit the model\n",
    "model.fit(principalComponents, y_train, epochs=30, batch_size=2, validation_split=0.1)"
   ]
  },
  {
   "cell_type": "code",
   "execution_count": 44,
   "metadata": {},
   "outputs": [
    {
     "ename": "ValueError",
     "evalue": "cannot reshape array of size 100352 into shape (1,10)",
     "output_type": "error",
     "traceback": [
      "\u001b[0;31m---------------------------------------------------------------------------\u001b[0m",
      "\u001b[0;31mValueError\u001b[0m                                Traceback (most recent call last)",
      "\u001b[0;32m<ipython-input-44-02d865aebbf0>\u001b[0m in \u001b[0;36m<module>\u001b[0;34m\u001b[0m\n\u001b[0;32m----> 1\u001b[0;31m \u001b[0mmodel\u001b[0m\u001b[0;34m.\u001b[0m\u001b[0mpredict_classes\u001b[0m\u001b[0;34m(\u001b[0m\u001b[0mx_train\u001b[0m\u001b[0;34m[\u001b[0m\u001b[0;36m2\u001b[0m\u001b[0;34m]\u001b[0m\u001b[0;34m.\u001b[0m\u001b[0mreshape\u001b[0m\u001b[0;34m(\u001b[0m\u001b[0;36m1\u001b[0m\u001b[0;34m,\u001b[0m\u001b[0;36m10\u001b[0m\u001b[0;34m)\u001b[0m\u001b[0;34m)\u001b[0m\u001b[0;34m\u001b[0m\u001b[0;34m\u001b[0m\u001b[0m\n\u001b[0m",
      "\u001b[0;31mValueError\u001b[0m: cannot reshape array of size 100352 into shape (1,10)"
     ]
    }
   ],
   "source": [
    "model.predict_classes([2].reshape(1,10))"
   ]
  },
  {
   "cell_type": "code",
   "execution_count": null,
   "metadata": {},
   "outputs": [],
   "source": [
    "y_train"
   ]
  },
  {
   "cell_type": "code",
   "execution_count": 71,
   "metadata": {},
   "outputs": [],
   "source": [
    "from sklearn import datasets\n",
    "iris = datasets.load_iris()"
   ]
  },
  {
   "cell_type": "code",
   "execution_count": 79,
   "metadata": {},
   "outputs": [
    {
     "data": {
      "text/plain": [
       "array([5.1, 3.5, 1.4, 0.2])"
      ]
     },
     "execution_count": 79,
     "metadata": {},
     "output_type": "execute_result"
    }
   ],
   "source": [
    "iris['data'][0]"
   ]
  },
  {
   "cell_type": "code",
   "execution_count": null,
   "metadata": {},
   "outputs": [],
   "source": []
  }
 ],
 "metadata": {
  "kernelspec": {
   "display_name": "Python 3",
   "language": "python",
   "name": "python3"
  },
  "language_info": {
   "codemirror_mode": {
    "name": "ipython",
    "version": 3
   },
   "file_extension": ".py",
   "mimetype": "text/x-python",
   "name": "python",
   "nbconvert_exporter": "python",
   "pygments_lexer": "ipython3",
   "version": "3.6.7"
  }
 },
 "nbformat": 4,
 "nbformat_minor": 2
}
